{
 "cells": [
  {
   "cell_type": "markdown",
   "id": "4e6576e2",
   "metadata": {},
   "source": [
    "# load all the required libraries"
   ]
  },
  {
   "cell_type": "code",
   "execution_count": 1,
   "id": "f5d182a6",
   "metadata": {},
   "outputs": [],
   "source": [
    "from flask import Flask,jsonify,request\n",
    "import pandas as pd\n",
    "from sklearn.linear_model import LogisticRegression\n",
    "import numpy as np\n",
    "import pickle"
   ]
  },
  {
   "cell_type": "markdown",
   "id": "58c757c6",
   "metadata": {},
   "source": [
    "# create object"
   ]
  },
  {
   "cell_type": "code",
   "execution_count": 2,
   "id": "f32b85a6",
   "metadata": {},
   "outputs": [],
   "source": [
    "app = Flask(__name__)"
   ]
  },
  {
   "cell_type": "markdown",
   "id": "ac304c7c",
   "metadata": {},
   "source": [
    "# create end point to  train your model and save training data in pickle file"
   ]
  },
  {
   "cell_type": "code",
   "execution_count": 3,
   "id": "17dfd70a",
   "metadata": {},
   "outputs": [],
   "source": [
    "@app.route('/train_model')\n",
    "def train():\n",
    "    # load data\n",
    "    data = pd.read_excel(r\"D:\\python DSA\\classroom technogeeks\\datasets\\Historical Alarm Cases.xlsx\")\n",
    "    # split columns\n",
    "    x = data.iloc[:, 1:7]\n",
    "    y = data['Spuriosity Index(0/1)']\n",
    "    # create object for Algo class\n",
    "    logm = LogisticRegression()\n",
    "    # train the model\n",
    "    logm.fit(x, y)\n",
    "    # Save trainig results in pickle file\n",
    "    pickle.dump(logm, open('train.pkl','wb'))\n",
    "    return \"Model trained successfully\""
   ]
  },
  {
   "cell_type": "markdown",
   "id": "8f7a7e4b",
   "metadata": {},
   "source": [
    "#  load pickle file and test your model, pass test data via POSt method\n",
    "#  First we need to load pickle file for it to get training data ref"
   ]
  },
  {
   "cell_type": "code",
   "execution_count": 4,
   "id": "0e83cdad",
   "metadata": {},
   "outputs": [],
   "source": [
    "@app.route('/test_model', methods=['POST'])\n",
    "def test():\n",
    "    # load pickle file\n",
    "    pkl_file = pickle.load(open('train.pkl','rb'))\n",
    "    test_data = request.get_json()\n",
    "    f1 = test_data['Ambient Temperature']\n",
    "    f2 = test_data['Calibration']\n",
    "    f3 = test_data['Unwanted substance deposition']\n",
    "    f4 = test_data['Humidity']\n",
    "    f5 = test_data['H2S Content']\n",
    "    f6 = test_data['detected by']\n",
    "    my_test_data = [f1, f2, f3, f4, f5, f6]\n",
    "    my_data_array = np.array(my_test_data)\n",
    "    test_array = my_data_array.reshape(1, 6)\n",
    "    df_test = pd.DataFrame(test_array,\n",
    "                           columns=['Ambient Temperature', 'Calibration', 'Unwanted substance deposition', 'Humidity',\n",
    "                                    'H2S Content', 'detected by'])\n",
    "    y_pred = pkl_file.predict(df_test)\n",
    "\n",
    "    if y_pred == 1:\n",
    "        return \"False Alarm, No Danger\"\n",
    "    else:\n",
    "        return \"True Alarm, Danger \""
   ]
  },
  {
   "cell_type": "markdown",
   "id": "e59a7207",
   "metadata": {},
   "source": [
    "#  run the application on port"
   ]
  },
  {
   "cell_type": "code",
   "execution_count": null,
   "id": "c18ce737",
   "metadata": {},
   "outputs": [
    {
     "name": "stdout",
     "output_type": "stream",
     "text": [
      " * Serving Flask app '__main__'\n",
      " * Debug mode: off\n"
     ]
    },
    {
     "name": "stderr",
     "output_type": "stream",
     "text": [
      "WARNING: This is a development server. Do not use it in a production deployment. Use a production WSGI server instead.\n",
      " * Running on http://127.0.0.1:5000\n",
      "Press CTRL+C to quit\n",
      "127.0.0.1 - - [06/Feb/2023 17:39:39] \"GET / HTTP/1.1\" 404 -\n",
      "127.0.0.1 - - [06/Feb/2023 17:39:40] \"GET /favicon.ico HTTP/1.1\" 404 -\n",
      "127.0.0.1 - - [06/Feb/2023 17:40:38] \"GET / HTTP/1.1\" 404 -\n"
     ]
    }
   ],
   "source": [
    "app.run()"
   ]
  },
  {
   "cell_type": "code",
   "execution_count": null,
   "id": "bcdbda02",
   "metadata": {},
   "outputs": [],
   "source": []
  },
  {
   "cell_type": "code",
   "execution_count": null,
   "id": "32038121",
   "metadata": {},
   "outputs": [],
   "source": []
  }
 ],
 "metadata": {
  "kernelspec": {
   "display_name": "Python 3 (ipykernel)",
   "language": "python",
   "name": "python3"
  },
  "language_info": {
   "codemirror_mode": {
    "name": "ipython",
    "version": 3
   },
   "file_extension": ".py",
   "mimetype": "text/x-python",
   "name": "python",
   "nbconvert_exporter": "python",
   "pygments_lexer": "ipython3",
   "version": "3.10.7"
  }
 },
 "nbformat": 4,
 "nbformat_minor": 5
}
